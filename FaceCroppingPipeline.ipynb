{
  "nbformat": 4,
  "nbformat_minor": 0,
  "metadata": {
    "colab": {
      "name": "FaceCroppingPipeline.ipynb",
      "provenance": [],
      "collapsed_sections": [],
      "authorship_tag": "ABX9TyNWBMlANMMqF1Zfc4wbh3ZB",
      "include_colab_link": true
    },
    "kernelspec": {
      "name": "python3",
      "display_name": "Python 3"
    },
    "language_info": {
      "name": "python"
    }
  },
  "cells": [
    {
      "cell_type": "markdown",
      "metadata": {
        "id": "view-in-github",
        "colab_type": "text"
      },
      "source": [
        "<a href=\"https://colab.research.google.com/github/syeds-git/face-cropping-pipeline/blob/main/FaceCroppingPipeline.ipynb\" target=\"_parent\"><img src=\"https://colab.research.google.com/assets/colab-badge.svg\" alt=\"Open In Colab\"/></a>"
      ]
    },
    {
      "cell_type": "markdown",
      "source": [
        "# Face cropping pipeline\n",
        "\n",
        "This pipeline scans a folder containing images and extracts out all the faces from each image and saves it into the cropped folder.\n",
        "\n",
        "Required:\n",
        "\n",
        "1. zip file containing images of people arranged in separate folders. The images can have multiple faces.\n",
        "2. The zip is uploaded to Google Drive."
      ],
      "metadata": {
        "id": "RgU8FOf7ee6u"
      }
    },
    {
      "cell_type": "markdown",
      "source": [
        "# Step 1\n",
        "Load and extract the data set"
      ],
      "metadata": {
        "id": "CTeailrMgAKb"
      }
    },
    {
      "cell_type": "code",
      "source": [
        "# Mount google drive\n",
        "from google.colab import drive\n",
        "drive.mount('/content/gdrive')\n",
        "\n",
        "# Unzip train data\n",
        "!unzip /content/gdrive/MyDrive/dataset.zip -d dataset\n",
        "\n",
        "# Unzip test data if available\n",
        "# !unzip test.zip -d dataset\n",
        "\n",
        "# clean up all images cropped folder from previous runs\n",
        "!rm -rf cropped/"
      ],
      "metadata": {
        "id": "JJ_jOVN1gF2m"
      },
      "execution_count": null,
      "outputs": []
    },
    {
      "cell_type": "markdown",
      "source": [
        "# Step 2\n",
        "\n",
        "Load all image paths in an array"
      ],
      "metadata": {
        "id": "haeoVQfMgLSj"
      }
    },
    {
      "cell_type": "code",
      "source": [
        "path_to_data = \"dataset/\"\n",
        "path_to_cr_data = \"cropped/\"\n",
        "\n",
        "import os\n",
        "img_dirs = []\n",
        "for entry in os.scandir(path_to_data):\n",
        "    if entry.is_dir():\n",
        "        img_dirs.append(entry.path)\n",
        "\n",
        "# add test directory to the array\n",
        "# img_dirs = [\"test/\"]\n",
        "\n",
        "# Another way to remove the a directory\n",
        "import shutil\n",
        "if os.path.exists(path_to_cr_data):\n",
        "     shutil.rmtree(path_to_cr_data)\n",
        "\n",
        "# Create cropped/ folder\n",
        "os.mkdir(path_to_cr_data)"
      ],
      "metadata": {
        "id": "qoCX6dI0hP_i"
      },
      "execution_count": 8,
      "outputs": []
    },
    {
      "cell_type": "markdown",
      "source": [
        "# Step 3\n",
        "\n",
        "Create helper functions"
      ],
      "metadata": {
        "id": "hrjY99Ooh5ju"
      }
    },
    {
      "cell_type": "code",
      "source": [
        "import cv2\n",
        "\n",
        "# Return 0 if param is < 0\n",
        "def checkLessThanZero(param):\n",
        "  if param < 0:\n",
        "    param = 0\n",
        "  return param\n",
        "\n",
        "# Gets coordinates of faces\n",
        "def get_cropped_faces(image_path, result_list):\n",
        "    print('Scanned: ' + image_path)\n",
        "    img = cv2.imread(image_path)\n",
        "    rois = []\n",
        "\n",
        "    # plot each face as a subplot\n",
        "    print(len(result_list))\n",
        "    # print(result_list)\n",
        "    for i in range(len(result_list)):      \n",
        "      x1, y1, width, height = result_list[i]['box']\n",
        "      x1 = checkLessThanZero(x1)\n",
        "      y1 = checkLessThanZero(y1)\n",
        "      \n",
        "      x2, y2 = x1 + width, y1 + height\n",
        "      roi_color = img[y1:y2, x1:x2]\n",
        "      rois.append(roi_color)\n",
        "    \n",
        "    # print(\"rois: \" + str(len(rois)))\n",
        "    return rois"
      ],
      "metadata": {
        "id": "SerHhxkch90x"
      },
      "execution_count": 3,
      "outputs": []
    },
    {
      "cell_type": "markdown",
      "source": [
        "# Step 4\n",
        "\n",
        "Extract and save detected faces in the images using MTCNN, PIL and OpenCV"
      ],
      "metadata": {
        "id": "erHsSz1biVf-"
      }
    },
    {
      "cell_type": "code",
      "source": [
        "pip install mtcnn"
      ],
      "metadata": {
        "colab": {
          "base_uri": "https://localhost:8080/"
        },
        "id": "G0J-kO0YkLDa",
        "outputId": "5d1edf21-c595-48f9-afd1-86a45b446d85"
      },
      "execution_count": 5,
      "outputs": [
        {
          "output_type": "stream",
          "name": "stdout",
          "text": [
            "Collecting mtcnn\n",
            "  Downloading mtcnn-0.1.1-py3-none-any.whl (2.3 MB)\n",
            "\u001b[K     |████████████████████████████████| 2.3 MB 5.1 MB/s \n",
            "\u001b[?25hRequirement already satisfied: opencv-python>=4.1.0 in /usr/local/lib/python3.7/dist-packages (from mtcnn) (4.1.2.30)\n",
            "Requirement already satisfied: keras>=2.0.0 in /usr/local/lib/python3.7/dist-packages (from mtcnn) (2.7.0)\n",
            "Requirement already satisfied: numpy>=1.14.5 in /usr/local/lib/python3.7/dist-packages (from opencv-python>=4.1.0->mtcnn) (1.19.5)\n",
            "Installing collected packages: mtcnn\n",
            "Successfully installed mtcnn-0.1.1\n"
          ]
        }
      ]
    },
    {
      "cell_type": "code",
      "source": [
        "import mtcnn\n",
        "# print version\n",
        "print(mtcnn.__version__)"
      ],
      "metadata": {
        "colab": {
          "base_uri": "https://localhost:8080/"
        },
        "id": "Pql2Z7zwkM3A",
        "outputId": "c2b72c61-0306-47c1-8a6e-849349de3c73"
      },
      "execution_count": 6,
      "outputs": [
        {
          "output_type": "stream",
          "name": "stdout",
          "text": [
            "0.1.0\n"
          ]
        }
      ]
    },
    {
      "cell_type": "code",
      "source": [
        "# extract and save each detected face in a photograph\n",
        "from matplotlib import pyplot\n",
        "from matplotlib.patches import Rectangle\n",
        "from matplotlib.patches import Circle\n",
        "from mtcnn.mtcnn import MTCNN\n",
        "from PIL import Image\n",
        "\n",
        "cropped_image_dirs = []\n",
        "person_file_names_dict = {}\n",
        "cv2.destroyAllWindows()\n",
        "\n",
        "# create the detector, using default weights\n",
        "detector = MTCNN()\n",
        "\n",
        "def converToJpg(pngFile):\n",
        "  im = Image.open(pngFile)\n",
        "  rgb_im = im.convert('RGB')\n",
        "  rgb_im.save(pngFile+'.jpg')\n",
        "  return pngFile+'.jpg'\n",
        "\n",
        "for img_dir in img_dirs:\n",
        "    count = 1\n",
        "    person_name = img_dir.split('/')[-1]\n",
        "\n",
        "    # This will be the name of the folder\n",
        "    print(person_name)\n",
        "    \n",
        "    person_file_names_dict[person_name] = []    \n",
        "    \n",
        "    for entry in os.scandir(img_dir):\n",
        "      filename = entry.path\n",
        "      if (any(substring in filename for substring in ['.png', 'jpg', '.jpeg'])):\n",
        "        print('Scanning: ' + filename)\n",
        "        if ('.png' in filename):\n",
        "          print('Convert to jpg: ' + filename)\n",
        "          filename = converToJpg(filename)\n",
        "          print('Converted to jpg: ' + filename)\n",
        "          \n",
        "        # load image from file\n",
        "        pixels = pyplot.imread(filename)\n",
        "        \n",
        "        # detect faces in the image\n",
        "        faces = detector.detect_faces(pixels)\n",
        "        \n",
        "        # get cropped faces\n",
        "        cropped_images = get_cropped_faces(filename, faces)\n",
        "        \n",
        "        if cropped_images is not None:\n",
        "          for roi_color in cropped_images:\n",
        "            cropped_folder = path_to_cr_data + person_name\n",
        "            if not os.path.exists(cropped_folder):\n",
        "              os.makedirs(cropped_folder)\n",
        "              cropped_image_dirs.append(cropped_folder)\n",
        "              print(\"Generating cropped images in folder: \",cropped_folder)\n",
        "                  \n",
        "            cropped_file_name = person_name + str(count) + \".png\"\n",
        "            cropped_file_path = cropped_folder + \"/\" + cropped_file_name \n",
        "            print('Saving: ' + cropped_file_path)\n",
        "              \n",
        "            cv2.imwrite(cropped_file_path, roi_color)\n",
        "            person_file_names_dict[person_name].append(cropped_file_path)\n",
        "            count += 1"
      ],
      "metadata": {
        "id": "iJCuaaVUii2b"
      },
      "execution_count": null,
      "outputs": []
    },
    {
      "cell_type": "markdown",
      "source": [
        "# Step 5\n",
        "\n",
        "zip cropped faces and transfer to drive"
      ],
      "metadata": {
        "id": "l4JUw1xZjXy6"
      }
    },
    {
      "cell_type": "code",
      "source": [
        "# Zip cropped faces\n",
        "import shutil\n",
        "shutil.make_archive('faces', 'zip', 'cropped')"
      ],
      "metadata": {
        "id": "lxg9xuX-jdfF"
      },
      "execution_count": null,
      "outputs": []
    },
    {
      "cell_type": "code",
      "source": [
        "# Copy back to drive\n",
        "!cp faces.zip /content/gdrive/MyDrive/faces.zip"
      ],
      "metadata": {
        "id": "yr2hjlTOjeem"
      },
      "execution_count": null,
      "outputs": []
    }
  ]
}